{
 "cells": [
  {
   "cell_type": "code",
   "execution_count": 2,
   "metadata": {
    "vscode": {
     "languageId": "rust"
    }
   },
   "outputs": [],
   "source": [
    ":dep signal_gen = { path = \"signal_gen\" }\n",
    ":dep plotly\n",
    "\n",
    "use std::f64::consts::PI;\n",
    "\n",
    "use plotly::{Layout, Plot, Scatter};\n",
    "use signal_gen::*;"
   ]
  },
  {
   "cell_type": "code",
   "execution_count": 3,
   "metadata": {
    "vscode": {
     "languageId": "rust"
    }
   },
   "outputs": [
    {
     "ename": "Error",
     "evalue": "Couldn't automatically determine type of variable `noise_signal`.\nPlease give it an explicit type.",
     "output_type": "error",
     "traceback": [
      "Couldn't automatically determine type of variable `noise_signal`.\nPlease give it an explicit type."
     ]
    }
   ],
   "source": [
    "let sample_rate = 1_000_000;\n",
    "let time = 3;\n",
    "let wave_freq = 3500;\n",
    "let harmonic_num = 4;\n",
    "let amp_max = 1000.0;\n",
    "\n",
    "let noise_signal = gen_noise(sample_rate, time);\n",
    "let freq_signal = gen_freq(sample_rate, time, wave_freq, harmonic_num);\n",
    "\n",
    "let i_data = scale_signal(\n",
    "    freq_signal\n",
    "        .into_iter()\n",
    "        .zip(noise_signal.into_iter())\n",
    "        .map(|(a, b)| a + b)\n",
    "        .collect(),\n",
    "    amp_max,\n",
    ");\n",
    "let q_data = phase_shift_signal(&i_data, PI / 2.0);\n",
    "\n",
    "let iq_data = i_data\n",
    "    .clone()\n",
    "    .into_iter()\n",
    "    .zip(q_data.into_iter())\n",
    "    .flat_map(|(a, b)| [a, b])\n",
    "    .collect::<Vec<_>>();\n",
    "\n",
    "let trace = Scatter::new((0..i_data.len()).collect(), i_data);\n",
    "let mut plot = Plot::new();\n",
    "plot.add_trace(trace);\n",
    "let layout = Layout::new().height(800);\n",
    "plot.set_layout(layout);\n",
    "plot.lab_display();"
   ]
  }
 ],
 "metadata": {
  "kernelspec": {
   "display_name": "Rust",
   "language": "rust",
   "name": "rust"
  },
  "language_info": {
   "codemirror_mode": "rust",
   "file_extension": ".rs",
   "mimetype": "text/rust",
   "name": "Rust",
   "pygment_lexer": "rust",
   "version": ""
  },
  "orig_nbformat": 4
 },
 "nbformat": 4,
 "nbformat_minor": 2
}
